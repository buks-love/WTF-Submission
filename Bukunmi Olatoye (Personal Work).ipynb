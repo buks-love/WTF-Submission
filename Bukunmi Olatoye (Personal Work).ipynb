{
 "cells": [
  {
   "cell_type": "markdown",
   "id": "d4886b69",
   "metadata": {},
   "source": [
    "# Name: Bukunmi Olatoye\n",
    "WTF/23/DS/A/065\n",
    "bukunmi.olatoye@womentechsters.org"
   ]
  },
  {
   "cell_type": "markdown",
   "id": "64f9e7b3",
   "metadata": {},
   "source": [
    "# 1) Print all elements of a list using for loop."
   ]
  },
  {
   "cell_type": "code",
   "execution_count": 3,
   "id": "f2266ee0",
   "metadata": {},
   "outputs": [
    {
     "name": "stdout",
     "output_type": "stream",
     "text": [
      "1\n",
      "2\n",
      "3\n",
      "Sade\n",
      "Sola\n",
      "40\n",
      "57\n"
     ]
    }
   ],
   "source": [
    "Room = [1,2,3,\"Sade\",\"Sola\",40, 57]\n",
    "for y in Room:\n",
    "    print(y)"
   ]
  },
  {
   "cell_type": "markdown",
   "id": "70d414c6",
   "metadata": {},
   "source": [
    "# 2) Using range(1,101), make two list, one containing all even numbers and other containing all odd numbers."
   ]
  },
  {
   "cell_type": "code",
   "execution_count": 8,
   "id": "080337de",
   "metadata": {},
   "outputs": [
    {
     "name": "stdout",
     "output_type": "stream",
     "text": [
      "Even lists: [2, 60, 78, 88, 84]\n",
      "Odd lists: [3, 5, 13, 15, 95, 99]\n"
     ]
    }
   ],
   "source": [
    "\n",
    "def Split(Buk):\n",
    "    even_list = []\n",
    "    odd_list = []\n",
    "    for i in Buk:\n",
    "        if (i % 2 == 0):\n",
    "            even_list.append(i)\n",
    "        else:\n",
    "            odd_list.append(i)\n",
    "    print(\"Even lists:\", even_list)\n",
    "    print(\"Odd lists:\", odd_list)\n",
    "\n",
    "Buk = [2, 3, 5, 13, 15, 60, 78, 88, 84, 95, 99]\n",
    "Split(Buk)"
   ]
  },
  {
   "cell_type": "markdown",
   "id": "dbd300b9",
   "metadata": {},
   "source": [
    "# 3) A company decided to give bonus of 5% to employee if his/her year of service is more than 5years. Ask user for their salary and year of service and print the net bonus amount."
   ]
  },
  {
   "cell_type": "code",
   "execution_count": 10,
   "id": "50fe37b0",
   "metadata": {
    "scrolled": true
   },
   "outputs": [
    {
     "name": "stdout",
     "output_type": "stream",
     "text": [
      "Enter your salary = 350000\n",
      "Enter your year of service = 7\n",
      "Your Net bonus is 17500.0\n"
     ]
    }
   ],
   "source": [
    "employee_salary = int(input(\"Enter your salary = \"))\n",
    "year_of_service = int(input(\"Enter your year of service = \"))\n",
    "if year_of_service >5:\n",
    "  print(\"Your Net bonus is\",0.05* employee_salary)"
   ]
  },
  {
   "cell_type": "code",
   "execution_count": null,
   "id": "7c7bd5a7",
   "metadata": {},
   "outputs": [],
   "source": []
  },
  {
   "cell_type": "markdown",
   "id": "53f53a7a",
   "metadata": {},
   "source": [
    "# 4) Take input of age of 3 people by user and determine oldest and youngest among them."
   ]
  },
  {
   "cell_type": "code",
   "execution_count": 31,
   "id": "e2fbc1af",
   "metadata": {},
   "outputs": [
    {
     "name": "stdout",
     "output_type": "stream",
     "text": [
      "30\n",
      "87\n",
      "56\n",
      "The Oldest is Sade 87\n"
     ]
    }
   ],
   "source": [
    "Sola = input()\n",
    "Sade = input()\n",
    "Sogo = input()\n",
    "\n",
    "if Sola >= Sade and Sola >= Sogo:\n",
    "    print (\"The Oldest is Sola\",Sola)\n",
    "elif Sade >= Sola and Sade >= Sogo:\n",
    "        print (\"The Oldest is Sade\",Sade) \n",
    "elif Sogo >= Sola and Sogo >= Sade:\n",
    "        print (\"The Oldest is Sogo\",Sogo)\n",
    "else:\n",
    "        print (\"All are equal\")\n",
    "    "
   ]
  },
  {
   "cell_type": "markdown",
   "id": "6948568a",
   "metadata": {},
   "source": [
    "# 6) Write a Python script to merge two Python dictionaries "
   ]
  },
  {
   "cell_type": "code",
   "execution_count": 33,
   "id": "57d2c682",
   "metadata": {},
   "outputs": [
    {
     "name": "stdout",
     "output_type": "stream",
     "text": [
      "Merge two dictionaries :\n",
      "{'Consultants': 'Emmanuel Toyin', 'Coaches': 'Fola', 'Interns': 'Tolu', 'Associate': 'Jadesola', 'Mentors': 'Maria', 'Main_Speaker': 'Ayodeji', 'Panelist': 'Elizabeth'}\n"
     ]
    }
   ],
   "source": [
    "d1 = {'Consultants' : 'Emmanuel Toyin', 'Coaches' : 'Abraham Joshua', 'Interns': 'Tolu', 'Associate' : 'Jadesola'}  \n",
    "  \n",
    "# Defines the d2 dictionary   \n",
    "d2 = {'Mentors' : 'Maria',  'Coaches' : 'Fola',  'Main_Speaker' : 'Ayodeji',  'Panelist' : 'Elizabeth'}  \n",
    "  \n",
    "d1.update(d2)   \n",
    "print( \"Merge two dictionaries :\")  \n",
    "print(d1) "
   ]
  },
  {
   "cell_type": "markdown",
   "id": "89c819fa",
   "metadata": {},
   "source": [
    "# 7) Write a Python program to remove a key from a dictionary.\n"
   ]
  },
  {
   "cell_type": "code",
   "execution_count": 55,
   "id": "c94f249e",
   "metadata": {},
   "outputs": [
    {
     "name": "stdout",
     "output_type": "stream",
     "text": [
      "Dictionary before removing key:  {'Consultants': 'Emmanuel Toyin', 'Vendors': 'Abraham Joshua', 'Interns': 'Tolu', 'Associate': 'Jadesola'}\n"
     ]
    }
   ],
   "source": [
    "d1 = {'Consultants' : 'Emmanuel Toyin', 'Vendors' : 'Abraham Joshua', 'Interns': 'Tolu', 'Associate' : 'Jadesola'}\n",
    "print(\"Dictionary before removing key: \",d1)"
   ]
  },
  {
   "cell_type": "code",
   "execution_count": 56,
   "id": "b0c2d424",
   "metadata": {},
   "outputs": [
    {
     "name": "stdout",
     "output_type": "stream",
     "text": [
      "Dictionary after removing key:  {'Consultants': 'Emmanuel Toyin', 'Vendors': 'Abraham Joshua', 'Interns': 'Tolu'}\n"
     ]
    }
   ],
   "source": [
    "del d1['Associate']\n",
    "print(\"Dictionary after removing key: \",d1)\n"
   ]
  },
  {
   "cell_type": "markdown",
   "id": "d07b3955",
   "metadata": {},
   "source": [
    "# 8) Write a Python program to get the largest number from a list"
   ]
  },
  {
   "cell_type": "code",
   "execution_count": 58,
   "id": "fcff9deb",
   "metadata": {},
   "outputs": [
    {
     "name": "stdout",
     "output_type": "stream",
     "text": [
      "Largest number is: 1050\n"
     ]
    }
   ],
   "source": [
    "list = [20, 50, 40, 10, 56, 1050]\n",
    "print(\"Largest number is:\", max(list))"
   ]
  },
  {
   "cell_type": "markdown",
   "id": "5aa72a6e",
   "metadata": {},
   "source": [
    "# A school has following rules for grading system:\n",
    "\n",
    "a. Below 25 - F\n",
    "\n",
    "b. 25 to 45 - E\n",
    "\n",
    "c. 45 to 50 - D\n",
    "\n",
    "d. 50 to 60 - C\n",
    "\n",
    "e. 60 to 80 - B\n",
    "\n",
    "f. Above 80 - A\n",
    "\n",
    "5) Ask user to enter marks and print the corresponding grade"
   ]
  },
  {
   "cell_type": "code",
   "execution_count": 64,
   "id": "46e21a58",
   "metadata": {
    "scrolled": true
   },
   "outputs": [
    {
     "name": "stdout",
     "output_type": "stream",
     "text": [
      "Your score:60\n",
      "B\n"
     ]
    }
   ],
   "source": [
    "score = input(\"Your score:\")\n",
    "score = int(score)\n",
    "if score < 25:  \n",
    "\n",
    "   print(\"F\")\n",
    "\n",
    "elif score >= 25 and score < 45:  \n",
    "\n",
    "   print(\"E\")\n",
    "\n",
    "elif score >= 45 and score < 50:  \n",
    "\n",
    "   print(\"D\")\n",
    "\n",
    "elif score >= 50 and score < 60:  \n",
    "\n",
    "   print(\"C\")\n",
    "\n",
    "elif score >= 60 and score < 80:  \n",
    "\n",
    "   print(\"B\")\n",
    "\n",
    "else:  \n",
    "\n",
    "   print(\"A\")"
   ]
  },
  {
   "cell_type": "code",
   "execution_count": null,
   "id": "52a017e4",
   "metadata": {},
   "outputs": [],
   "source": []
  }
 ],
 "metadata": {
  "kernelspec": {
   "display_name": "Python 3",
   "language": "python",
   "name": "python3"
  },
  "language_info": {
   "codemirror_mode": {
    "name": "ipython",
    "version": 3
   },
   "file_extension": ".py",
   "mimetype": "text/x-python",
   "name": "python",
   "nbconvert_exporter": "python",
   "pygments_lexer": "ipython3",
   "version": "3.8.8"
  }
 },
 "nbformat": 4,
 "nbformat_minor": 5
}
