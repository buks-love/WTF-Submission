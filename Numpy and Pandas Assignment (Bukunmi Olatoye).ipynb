{
 "cells": [
  {
   "cell_type": "code",
   "execution_count": 1,
   "id": "cb7694eb",
   "metadata": {},
   "outputs": [],
   "source": [
    "import numpy as np\n",
    "import pandas as pd"
   ]
  },
  {
   "cell_type": "markdown",
   "id": "edab8d94",
   "metadata": {},
   "source": [
    "# 1. Insert: The insert function is used for adding new column to a dataframe in any position."
   ]
  },
  {
   "cell_type": "code",
   "execution_count": 51,
   "id": "4b398f67",
   "metadata": {},
   "outputs": [],
   "source": [
    "dict = {\"Name\": [\"Tolulope\", \"Ibukun\", \"Temitope\", \"Olawale\", \"Abiola\"], \"Class\":[1,2,5,6,7], \"Subject\": [\"Phy\", \"Mat\",\"Bio\",\"Che\",\"Eng\"]}"
   ]
  },
  {
   "cell_type": "code",
   "execution_count": 53,
   "id": "454ecc9b",
   "metadata": {},
   "outputs": [
    {
     "data": {
      "text/html": [
       "<div>\n",
       "<style scoped>\n",
       "    .dataframe tbody tr th:only-of-type {\n",
       "        vertical-align: middle;\n",
       "    }\n",
       "\n",
       "    .dataframe tbody tr th {\n",
       "        vertical-align: top;\n",
       "    }\n",
       "\n",
       "    .dataframe thead th {\n",
       "        text-align: right;\n",
       "    }\n",
       "</style>\n",
       "<table border=\"1\" class=\"dataframe\">\n",
       "  <thead>\n",
       "    <tr style=\"text-align: right;\">\n",
       "      <th></th>\n",
       "      <th>Name</th>\n",
       "      <th>Class</th>\n",
       "      <th>Subject</th>\n",
       "    </tr>\n",
       "  </thead>\n",
       "  <tbody>\n",
       "    <tr>\n",
       "      <th>0</th>\n",
       "      <td>Tolulope</td>\n",
       "      <td>1</td>\n",
       "      <td>Phy</td>\n",
       "    </tr>\n",
       "    <tr>\n",
       "      <th>1</th>\n",
       "      <td>Ibukun</td>\n",
       "      <td>2</td>\n",
       "      <td>Mat</td>\n",
       "    </tr>\n",
       "    <tr>\n",
       "      <th>2</th>\n",
       "      <td>Temitope</td>\n",
       "      <td>5</td>\n",
       "      <td>Bio</td>\n",
       "    </tr>\n",
       "    <tr>\n",
       "      <th>3</th>\n",
       "      <td>Olawale</td>\n",
       "      <td>6</td>\n",
       "      <td>Che</td>\n",
       "    </tr>\n",
       "    <tr>\n",
       "      <th>4</th>\n",
       "      <td>Abiola</td>\n",
       "      <td>7</td>\n",
       "      <td>Eng</td>\n",
       "    </tr>\n",
       "  </tbody>\n",
       "</table>\n",
       "</div>"
      ],
      "text/plain": [
       "       Name  Class Subject\n",
       "0  Tolulope      1     Phy\n",
       "1    Ibukun      2     Mat\n",
       "2  Temitope      5     Bio\n",
       "3   Olawale      6     Che\n",
       "4    Abiola      7     Eng"
      ]
     },
     "execution_count": 53,
     "metadata": {},
     "output_type": "execute_result"
    }
   ],
   "source": [
    "Result = pd.DataFrame(dict)\n",
    "Result"
   ]
  },
  {
   "cell_type": "code",
   "execution_count": 57,
   "id": "28d6bc49",
   "metadata": {},
   "outputs": [],
   "source": [
    "\n",
    "SubTrack1 =  [54.00, 31.02, 78.32, 83.5, 52.4]"
   ]
  },
  {
   "cell_type": "code",
   "execution_count": 55,
   "id": "271e1939",
   "metadata": {},
   "outputs": [
    {
     "data": {
      "text/plain": [
       "Index(['Name', 'Class', 'Subject'], dtype='object')"
      ]
     },
     "execution_count": 55,
     "metadata": {},
     "output_type": "execute_result"
    }
   ],
   "source": [
    "Result.columns"
   ]
  },
  {
   "cell_type": "code",
   "execution_count": 56,
   "id": "371ffb4a",
   "metadata": {},
   "outputs": [
    {
     "data": {
      "text/plain": [
       "<bound method DataFrame.info of        Name  Class Subject\n",
       "0  Tolulope      1     Phy\n",
       "1    Ibukun      2     Mat\n",
       "2  Temitope      5     Bio\n",
       "3   Olawale      6     Che\n",
       "4    Abiola      7     Eng>"
      ]
     },
     "execution_count": 56,
     "metadata": {},
     "output_type": "execute_result"
    }
   ],
   "source": [
    "Result.info"
   ]
  },
  {
   "cell_type": "code",
   "execution_count": 65,
   "id": "8e361c55",
   "metadata": {},
   "outputs": [
    {
     "data": {
      "text/html": [
       "<div>\n",
       "<style scoped>\n",
       "    .dataframe tbody tr th:only-of-type {\n",
       "        vertical-align: middle;\n",
       "    }\n",
       "\n",
       "    .dataframe tbody tr th {\n",
       "        vertical-align: top;\n",
       "    }\n",
       "\n",
       "    .dataframe thead th {\n",
       "        text-align: right;\n",
       "    }\n",
       "</style>\n",
       "<table border=\"1\" class=\"dataframe\">\n",
       "  <thead>\n",
       "    <tr style=\"text-align: right;\">\n",
       "      <th></th>\n",
       "      <th>Name</th>\n",
       "      <th>Class</th>\n",
       "      <th>Subject</th>\n",
       "      <th>Best_Graduant</th>\n",
       "      <th>user</th>\n",
       "      <th>Best_Students</th>\n",
       "      <th>Students</th>\n",
       "    </tr>\n",
       "  </thead>\n",
       "  <tbody>\n",
       "    <tr>\n",
       "      <th>0</th>\n",
       "      <td>Tolulope</td>\n",
       "      <td>1</td>\n",
       "      <td>Phy</td>\n",
       "      <td>54.00</td>\n",
       "      <td>54.00</td>\n",
       "      <td>54.00</td>\n",
       "      <td>54.00</td>\n",
       "    </tr>\n",
       "    <tr>\n",
       "      <th>1</th>\n",
       "      <td>Ibukun</td>\n",
       "      <td>2</td>\n",
       "      <td>Mat</td>\n",
       "      <td>31.02</td>\n",
       "      <td>31.02</td>\n",
       "      <td>31.02</td>\n",
       "      <td>31.02</td>\n",
       "    </tr>\n",
       "    <tr>\n",
       "      <th>2</th>\n",
       "      <td>Temitope</td>\n",
       "      <td>5</td>\n",
       "      <td>Bio</td>\n",
       "      <td>78.32</td>\n",
       "      <td>78.32</td>\n",
       "      <td>78.32</td>\n",
       "      <td>78.32</td>\n",
       "    </tr>\n",
       "    <tr>\n",
       "      <th>3</th>\n",
       "      <td>Olawale</td>\n",
       "      <td>6</td>\n",
       "      <td>Che</td>\n",
       "      <td>83.50</td>\n",
       "      <td>83.50</td>\n",
       "      <td>83.50</td>\n",
       "      <td>83.50</td>\n",
       "    </tr>\n",
       "    <tr>\n",
       "      <th>4</th>\n",
       "      <td>Abiola</td>\n",
       "      <td>7</td>\n",
       "      <td>Eng</td>\n",
       "      <td>52.40</td>\n",
       "      <td>52.40</td>\n",
       "      <td>52.40</td>\n",
       "      <td>52.40</td>\n",
       "    </tr>\n",
       "  </tbody>\n",
       "</table>\n",
       "</div>"
      ],
      "text/plain": [
       "       Name  Class Subject  Best_Graduant   user  Best_Students  Students\n",
       "0  Tolulope      1     Phy          54.00  54.00          54.00     54.00\n",
       "1    Ibukun      2     Mat          31.02  31.02          31.02     31.02\n",
       "2  Temitope      5     Bio          78.32  78.32          78.32     78.32\n",
       "3   Olawale      6     Che          83.50  83.50          83.50     83.50\n",
       "4    Abiola      7     Eng          52.40  52.40          52.40     52.40"
      ]
     },
     "execution_count": 65,
     "metadata": {},
     "output_type": "execute_result"
    }
   ],
   "source": [
    "Result.insert(3,'Best_Graduant',SubTrack1)\n",
    "Result"
   ]
  },
  {
   "cell_type": "markdown",
   "id": "1e461c85",
   "metadata": {},
   "source": [
    "# 2. Drop Function: The drop() function to drop one or more columns from a pandas DataFrame"
   ]
  },
  {
   "cell_type": "code",
   "execution_count": 69,
   "id": "eb39ef32",
   "metadata": {
    "scrolled": true
   },
   "outputs": [
    {
     "data": {
      "text/html": [
       "<div>\n",
       "<style scoped>\n",
       "    .dataframe tbody tr th:only-of-type {\n",
       "        vertical-align: middle;\n",
       "    }\n",
       "\n",
       "    .dataframe tbody tr th {\n",
       "        vertical-align: top;\n",
       "    }\n",
       "\n",
       "    .dataframe thead th {\n",
       "        text-align: right;\n",
       "    }\n",
       "</style>\n",
       "<table border=\"1\" class=\"dataframe\">\n",
       "  <thead>\n",
       "    <tr style=\"text-align: right;\">\n",
       "      <th></th>\n",
       "      <th>Name</th>\n",
       "      <th>Class</th>\n",
       "      <th>Subject</th>\n",
       "      <th>Best_Graduant</th>\n",
       "      <th>user</th>\n",
       "    </tr>\n",
       "  </thead>\n",
       "  <tbody>\n",
       "    <tr>\n",
       "      <th>0</th>\n",
       "      <td>Tolulope</td>\n",
       "      <td>1</td>\n",
       "      <td>Phy</td>\n",
       "      <td>54.00</td>\n",
       "      <td>54.00</td>\n",
       "    </tr>\n",
       "    <tr>\n",
       "      <th>1</th>\n",
       "      <td>Ibukun</td>\n",
       "      <td>2</td>\n",
       "      <td>Mat</td>\n",
       "      <td>31.02</td>\n",
       "      <td>31.02</td>\n",
       "    </tr>\n",
       "    <tr>\n",
       "      <th>2</th>\n",
       "      <td>Temitope</td>\n",
       "      <td>5</td>\n",
       "      <td>Bio</td>\n",
       "      <td>78.32</td>\n",
       "      <td>78.32</td>\n",
       "    </tr>\n",
       "    <tr>\n",
       "      <th>3</th>\n",
       "      <td>Olawale</td>\n",
       "      <td>6</td>\n",
       "      <td>Che</td>\n",
       "      <td>83.50</td>\n",
       "      <td>83.50</td>\n",
       "    </tr>\n",
       "    <tr>\n",
       "      <th>4</th>\n",
       "      <td>Abiola</td>\n",
       "      <td>7</td>\n",
       "      <td>Eng</td>\n",
       "      <td>52.40</td>\n",
       "      <td>52.40</td>\n",
       "    </tr>\n",
       "  </tbody>\n",
       "</table>\n",
       "</div>"
      ],
      "text/plain": [
       "       Name  Class Subject  Best_Graduant   user\n",
       "0  Tolulope      1     Phy          54.00  54.00\n",
       "1    Ibukun      2     Mat          31.02  31.02\n",
       "2  Temitope      5     Bio          78.32  78.32\n",
       "3   Olawale      6     Che          83.50  83.50\n",
       "4    Abiola      7     Eng          52.40  52.40"
      ]
     },
     "execution_count": 69,
     "metadata": {},
     "output_type": "execute_result"
    }
   ],
   "source": [
    "Result.drop('Students', axis=1, inplace=True)\n",
    "Result"
   ]
  },
  {
   "cell_type": "markdown",
   "id": "8eabbf5a",
   "metadata": {},
   "source": [
    "# 3. Pandas Head Function: The head() function to view the first n rows of a pandas DataFrame."
   ]
  },
  {
   "cell_type": "code",
   "execution_count": 70,
   "id": "6d79e779",
   "metadata": {},
   "outputs": [
    {
     "name": "stdout",
     "output_type": "stream",
     "text": [
      "0    20\n",
      "1    40\n",
      "2    60\n",
      "dtype: int64\n",
      "<class 'pandas.core.series.Series'>\n"
     ]
    }
   ],
   "source": [
    "s3 = pd.Series([20,40,60])\n",
    "print(s3)\n",
    "print(type(s3))\n",
    "\n"
   ]
  },
  {
   "cell_type": "code",
   "execution_count": 87,
   "id": "da35a90d",
   "metadata": {},
   "outputs": [
    {
     "name": "stdout",
     "output_type": "stream",
     "text": [
      "   F  G\n",
      "W  2  6\n",
      "Y  4  5\n",
      "<class 'pandas.core.frame.DataFrame'>\n"
     ]
    }
   ],
   "source": [
    "s4 = pd.DataFrame([[2,6],[4,5]], columns= [\"F\",\"G\"], index =[\"W\", \"Y\"])\n",
    "print(s4)\n",
    "print(type(s4))"
   ]
  },
  {
   "cell_type": "code",
   "execution_count": 96,
   "id": "fbf31400",
   "metadata": {},
   "outputs": [
    {
     "data": {
      "text/html": [
       "<div>\n",
       "<style scoped>\n",
       "    .dataframe tbody tr th:only-of-type {\n",
       "        vertical-align: middle;\n",
       "    }\n",
       "\n",
       "    .dataframe tbody tr th {\n",
       "        vertical-align: top;\n",
       "    }\n",
       "\n",
       "    .dataframe thead th {\n",
       "        text-align: right;\n",
       "    }\n",
       "</style>\n",
       "<table border=\"1\" class=\"dataframe\">\n",
       "  <thead>\n",
       "    <tr style=\"text-align: right;\">\n",
       "      <th></th>\n",
       "      <th>F</th>\n",
       "      <th>G</th>\n",
       "      <th>W</th>\n",
       "      <th>Y</th>\n",
       "      <th>K</th>\n",
       "      <th>M</th>\n",
       "    </tr>\n",
       "  </thead>\n",
       "  <tbody>\n",
       "    <tr>\n",
       "      <th>6</th>\n",
       "      <td>-0.064008</td>\n",
       "      <td>-0.615010</td>\n",
       "      <td>0.895380</td>\n",
       "      <td>1.709370</td>\n",
       "      <td>0.454478</td>\n",
       "      <td>0.879303</td>\n",
       "    </tr>\n",
       "    <tr>\n",
       "      <th>7</th>\n",
       "      <td>0.924502</td>\n",
       "      <td>1.062428</td>\n",
       "      <td>-1.116206</td>\n",
       "      <td>-1.079386</td>\n",
       "      <td>0.234978</td>\n",
       "      <td>0.037442</td>\n",
       "    </tr>\n",
       "    <tr>\n",
       "      <th>8</th>\n",
       "      <td>-0.106692</td>\n",
       "      <td>1.175990</td>\n",
       "      <td>-1.043631</td>\n",
       "      <td>1.344642</td>\n",
       "      <td>-0.924636</td>\n",
       "      <td>1.724870</td>\n",
       "    </tr>\n",
       "    <tr>\n",
       "      <th>9</th>\n",
       "      <td>1.634474</td>\n",
       "      <td>-0.650158</td>\n",
       "      <td>-0.419224</td>\n",
       "      <td>0.222185</td>\n",
       "      <td>1.720921</td>\n",
       "      <td>0.084922</td>\n",
       "    </tr>\n",
       "  </tbody>\n",
       "</table>\n",
       "</div>"
      ],
      "text/plain": [
       "          F         G         W         Y         K         M\n",
       "6 -0.064008 -0.615010  0.895380  1.709370  0.454478  0.879303\n",
       "7  0.924502  1.062428 -1.116206 -1.079386  0.234978  0.037442\n",
       "8 -0.106692  1.175990 -1.043631  1.344642 -0.924636  1.724870\n",
       "9  1.634474 -0.650158 -0.419224  0.222185  1.720921  0.084922"
      ]
     },
     "execution_count": 96,
     "metadata": {},
     "output_type": "execute_result"
    }
   ],
   "source": [
    "s5=pd.DataFrame(np.random.randn(20,6),columns=[\"F\",\"G\",\"W\", \"Y\",\"K\",\"M\"])\n",
    "s5[(5<s5.index) & (s5.index<10)]"
   ]
  },
  {
   "cell_type": "code",
   "execution_count": 97,
   "id": "e1617423",
   "metadata": {},
   "outputs": [
    {
     "data": {
      "text/html": [
       "<div>\n",
       "<style scoped>\n",
       "    .dataframe tbody tr th:only-of-type {\n",
       "        vertical-align: middle;\n",
       "    }\n",
       "\n",
       "    .dataframe tbody tr th {\n",
       "        vertical-align: top;\n",
       "    }\n",
       "\n",
       "    .dataframe thead th {\n",
       "        text-align: right;\n",
       "    }\n",
       "</style>\n",
       "<table border=\"1\" class=\"dataframe\">\n",
       "  <thead>\n",
       "    <tr style=\"text-align: right;\">\n",
       "      <th></th>\n",
       "      <th>F</th>\n",
       "      <th>G</th>\n",
       "      <th>W</th>\n",
       "      <th>Y</th>\n",
       "      <th>K</th>\n",
       "      <th>M</th>\n",
       "    </tr>\n",
       "  </thead>\n",
       "  <tbody>\n",
       "    <tr>\n",
       "      <th>0</th>\n",
       "      <td>0.859794</td>\n",
       "      <td>-0.421845</td>\n",
       "      <td>-0.062756</td>\n",
       "      <td>1.605158</td>\n",
       "      <td>-2.629584</td>\n",
       "      <td>0.644810</td>\n",
       "    </tr>\n",
       "    <tr>\n",
       "      <th>1</th>\n",
       "      <td>0.900144</td>\n",
       "      <td>-0.516430</td>\n",
       "      <td>1.742249</td>\n",
       "      <td>0.839396</td>\n",
       "      <td>-0.916838</td>\n",
       "      <td>-0.671933</td>\n",
       "    </tr>\n",
       "    <tr>\n",
       "      <th>2</th>\n",
       "      <td>0.217099</td>\n",
       "      <td>0.945797</td>\n",
       "      <td>0.239012</td>\n",
       "      <td>-0.372177</td>\n",
       "      <td>0.488118</td>\n",
       "      <td>-0.808752</td>\n",
       "    </tr>\n",
       "    <tr>\n",
       "      <th>3</th>\n",
       "      <td>1.483238</td>\n",
       "      <td>0.430690</td>\n",
       "      <td>-0.827549</td>\n",
       "      <td>0.281359</td>\n",
       "      <td>-1.598215</td>\n",
       "      <td>0.140505</td>\n",
       "    </tr>\n",
       "    <tr>\n",
       "      <th>4</th>\n",
       "      <td>0.049205</td>\n",
       "      <td>-1.443599</td>\n",
       "      <td>-1.008657</td>\n",
       "      <td>2.545008</td>\n",
       "      <td>-0.620304</td>\n",
       "      <td>0.032923</td>\n",
       "    </tr>\n",
       "  </tbody>\n",
       "</table>\n",
       "</div>"
      ],
      "text/plain": [
       "          F         G         W         Y         K         M\n",
       "0  0.859794 -0.421845 -0.062756  1.605158 -2.629584  0.644810\n",
       "1  0.900144 -0.516430  1.742249  0.839396 -0.916838 -0.671933\n",
       "2  0.217099  0.945797  0.239012 -0.372177  0.488118 -0.808752\n",
       "3  1.483238  0.430690 -0.827549  0.281359 -1.598215  0.140505\n",
       "4  0.049205 -1.443599 -1.008657  2.545008 -0.620304  0.032923"
      ]
     },
     "execution_count": 97,
     "metadata": {},
     "output_type": "execute_result"
    }
   ],
   "source": [
    "s5.head()"
   ]
  },
  {
   "cell_type": "markdown",
   "id": "c5308254",
   "metadata": {},
   "source": [
    "# 4. Tail Function: The tail function in Python displays the last five rows of the dataframe by default."
   ]
  },
  {
   "cell_type": "code",
   "execution_count": 98,
   "id": "99f4c6f8",
   "metadata": {},
   "outputs": [
    {
     "data": {
      "text/html": [
       "<div>\n",
       "<style scoped>\n",
       "    .dataframe tbody tr th:only-of-type {\n",
       "        vertical-align: middle;\n",
       "    }\n",
       "\n",
       "    .dataframe tbody tr th {\n",
       "        vertical-align: top;\n",
       "    }\n",
       "\n",
       "    .dataframe thead th {\n",
       "        text-align: right;\n",
       "    }\n",
       "</style>\n",
       "<table border=\"1\" class=\"dataframe\">\n",
       "  <thead>\n",
       "    <tr style=\"text-align: right;\">\n",
       "      <th></th>\n",
       "      <th>F</th>\n",
       "      <th>G</th>\n",
       "      <th>W</th>\n",
       "      <th>Y</th>\n",
       "      <th>K</th>\n",
       "      <th>M</th>\n",
       "    </tr>\n",
       "  </thead>\n",
       "  <tbody>\n",
       "    <tr>\n",
       "      <th>15</th>\n",
       "      <td>0.596921</td>\n",
       "      <td>-1.137028</td>\n",
       "      <td>-1.115583</td>\n",
       "      <td>-0.207871</td>\n",
       "      <td>-0.202211</td>\n",
       "      <td>0.028453</td>\n",
       "    </tr>\n",
       "    <tr>\n",
       "      <th>16</th>\n",
       "      <td>-0.325580</td>\n",
       "      <td>-0.322302</td>\n",
       "      <td>0.336853</td>\n",
       "      <td>-0.750022</td>\n",
       "      <td>0.445714</td>\n",
       "      <td>0.632195</td>\n",
       "    </tr>\n",
       "    <tr>\n",
       "      <th>17</th>\n",
       "      <td>-0.398078</td>\n",
       "      <td>0.162387</td>\n",
       "      <td>-1.012714</td>\n",
       "      <td>0.029198</td>\n",
       "      <td>-0.652443</td>\n",
       "      <td>0.978022</td>\n",
       "    </tr>\n",
       "    <tr>\n",
       "      <th>18</th>\n",
       "      <td>0.062090</td>\n",
       "      <td>-0.570846</td>\n",
       "      <td>-0.394584</td>\n",
       "      <td>-0.239513</td>\n",
       "      <td>-1.235929</td>\n",
       "      <td>0.367610</td>\n",
       "    </tr>\n",
       "    <tr>\n",
       "      <th>19</th>\n",
       "      <td>-0.870421</td>\n",
       "      <td>-0.991220</td>\n",
       "      <td>-0.909445</td>\n",
       "      <td>-0.051585</td>\n",
       "      <td>0.402074</td>\n",
       "      <td>0.834901</td>\n",
       "    </tr>\n",
       "  </tbody>\n",
       "</table>\n",
       "</div>"
      ],
      "text/plain": [
       "           F         G         W         Y         K         M\n",
       "15  0.596921 -1.137028 -1.115583 -0.207871 -0.202211  0.028453\n",
       "16 -0.325580 -0.322302  0.336853 -0.750022  0.445714  0.632195\n",
       "17 -0.398078  0.162387 -1.012714  0.029198 -0.652443  0.978022\n",
       "18  0.062090 -0.570846 -0.394584 -0.239513 -1.235929  0.367610\n",
       "19 -0.870421 -0.991220 -0.909445 -0.051585  0.402074  0.834901"
      ]
     },
     "execution_count": 98,
     "metadata": {},
     "output_type": "execute_result"
    }
   ],
   "source": [
    "s5.tail()"
   ]
  },
  {
   "cell_type": "markdown",
   "id": "335142fb",
   "metadata": {},
   "source": [
    "# 5. Describe Function: Pandas DataFrame describe() method is used to calculate some statistical data such as percentile, mean and std of different numerical values of the DataFrame."
   ]
  },
  {
   "cell_type": "code",
   "execution_count": 99,
   "id": "87f64a53",
   "metadata": {},
   "outputs": [
    {
     "data": {
      "text/html": [
       "<div>\n",
       "<style scoped>\n",
       "    .dataframe tbody tr th:only-of-type {\n",
       "        vertical-align: middle;\n",
       "    }\n",
       "\n",
       "    .dataframe tbody tr th {\n",
       "        vertical-align: top;\n",
       "    }\n",
       "\n",
       "    .dataframe thead th {\n",
       "        text-align: right;\n",
       "    }\n",
       "</style>\n",
       "<table border=\"1\" class=\"dataframe\">\n",
       "  <thead>\n",
       "    <tr style=\"text-align: right;\">\n",
       "      <th></th>\n",
       "      <th>F</th>\n",
       "      <th>G</th>\n",
       "      <th>W</th>\n",
       "      <th>Y</th>\n",
       "      <th>K</th>\n",
       "      <th>M</th>\n",
       "    </tr>\n",
       "  </thead>\n",
       "  <tbody>\n",
       "    <tr>\n",
       "      <th>count</th>\n",
       "      <td>20.000000</td>\n",
       "      <td>20.000000</td>\n",
       "      <td>20.000000</td>\n",
       "      <td>20.000000</td>\n",
       "      <td>20.000000</td>\n",
       "      <td>20.000000</td>\n",
       "    </tr>\n",
       "    <tr>\n",
       "      <th>mean</th>\n",
       "      <td>0.203374</td>\n",
       "      <td>-0.107118</td>\n",
       "      <td>-0.183736</td>\n",
       "      <td>0.095702</td>\n",
       "      <td>-0.149776</td>\n",
       "      <td>0.181848</td>\n",
       "    </tr>\n",
       "    <tr>\n",
       "      <th>std</th>\n",
       "      <td>0.792160</td>\n",
       "      <td>0.873507</td>\n",
       "      <td>0.931681</td>\n",
       "      <td>1.084749</td>\n",
       "      <td>1.130984</td>\n",
       "      <td>0.767304</td>\n",
       "    </tr>\n",
       "    <tr>\n",
       "      <th>min</th>\n",
       "      <td>-1.550913</td>\n",
       "      <td>-1.443599</td>\n",
       "      <td>-1.788268</td>\n",
       "      <td>-1.589066</td>\n",
       "      <td>-2.629584</td>\n",
       "      <td>-2.006739</td>\n",
       "    </tr>\n",
       "    <tr>\n",
       "      <th>25%</th>\n",
       "      <td>-0.331087</td>\n",
       "      <td>-0.623797</td>\n",
       "      <td>-1.009672</td>\n",
       "      <td>-0.649800</td>\n",
       "      <td>-0.918788</td>\n",
       "      <td>0.024634</td>\n",
       "    </tr>\n",
       "    <tr>\n",
       "      <th>50%</th>\n",
       "      <td>0.055648</td>\n",
       "      <td>-0.318951</td>\n",
       "      <td>-0.228670</td>\n",
       "      <td>-0.011194</td>\n",
       "      <td>0.252079</td>\n",
       "      <td>0.104010</td>\n",
       "    </tr>\n",
       "    <tr>\n",
       "      <th>75%</th>\n",
       "      <td>0.869882</td>\n",
       "      <td>0.550766</td>\n",
       "      <td>0.375986</td>\n",
       "      <td>0.562371</td>\n",
       "      <td>0.550487</td>\n",
       "      <td>0.635349</td>\n",
       "    </tr>\n",
       "    <tr>\n",
       "      <th>max</th>\n",
       "      <td>1.634474</td>\n",
       "      <td>1.442605</td>\n",
       "      <td>1.742249</td>\n",
       "      <td>2.545008</td>\n",
       "      <td>1.720921</td>\n",
       "      <td>1.724870</td>\n",
       "    </tr>\n",
       "  </tbody>\n",
       "</table>\n",
       "</div>"
      ],
      "text/plain": [
       "               F          G          W          Y          K          M\n",
       "count  20.000000  20.000000  20.000000  20.000000  20.000000  20.000000\n",
       "mean    0.203374  -0.107118  -0.183736   0.095702  -0.149776   0.181848\n",
       "std     0.792160   0.873507   0.931681   1.084749   1.130984   0.767304\n",
       "min    -1.550913  -1.443599  -1.788268  -1.589066  -2.629584  -2.006739\n",
       "25%    -0.331087  -0.623797  -1.009672  -0.649800  -0.918788   0.024634\n",
       "50%     0.055648  -0.318951  -0.228670  -0.011194   0.252079   0.104010\n",
       "75%     0.869882   0.550766   0.375986   0.562371   0.550487   0.635349\n",
       "max     1.634474   1.442605   1.742249   2.545008   1.720921   1.724870"
      ]
     },
     "execution_count": 99,
     "metadata": {},
     "output_type": "execute_result"
    }
   ],
   "source": [
    "s5.describe()"
   ]
  },
  {
   "cell_type": "markdown",
   "id": "3e76e50d",
   "metadata": {},
   "source": [
    "# 6. iloc Function: The “iloc” in pandas is used to select rows and columns by number (index), in the order that they appear in the DataFrame. "
   ]
  },
  {
   "cell_type": "code",
   "execution_count": 100,
   "id": "89670952",
   "metadata": {},
   "outputs": [
    {
     "data": {
      "text/html": [
       "<div>\n",
       "<style scoped>\n",
       "    .dataframe tbody tr th:only-of-type {\n",
       "        vertical-align: middle;\n",
       "    }\n",
       "\n",
       "    .dataframe tbody tr th {\n",
       "        vertical-align: top;\n",
       "    }\n",
       "\n",
       "    .dataframe thead th {\n",
       "        text-align: right;\n",
       "    }\n",
       "</style>\n",
       "<table border=\"1\" class=\"dataframe\">\n",
       "  <thead>\n",
       "    <tr style=\"text-align: right;\">\n",
       "      <th></th>\n",
       "      <th>F</th>\n",
       "      <th>G</th>\n",
       "      <th>W</th>\n",
       "      <th>Y</th>\n",
       "      <th>K</th>\n",
       "      <th>M</th>\n",
       "    </tr>\n",
       "  </thead>\n",
       "  <tbody>\n",
       "    <tr>\n",
       "      <th>0</th>\n",
       "      <td>0.859794</td>\n",
       "      <td>-0.421845</td>\n",
       "      <td>-0.062756</td>\n",
       "      <td>1.605158</td>\n",
       "      <td>-2.629584</td>\n",
       "      <td>0.644810</td>\n",
       "    </tr>\n",
       "    <tr>\n",
       "      <th>1</th>\n",
       "      <td>0.900144</td>\n",
       "      <td>-0.516430</td>\n",
       "      <td>1.742249</td>\n",
       "      <td>0.839396</td>\n",
       "      <td>-0.916838</td>\n",
       "      <td>-0.671933</td>\n",
       "    </tr>\n",
       "    <tr>\n",
       "      <th>2</th>\n",
       "      <td>0.217099</td>\n",
       "      <td>0.945797</td>\n",
       "      <td>0.239012</td>\n",
       "      <td>-0.372177</td>\n",
       "      <td>0.488118</td>\n",
       "      <td>-0.808752</td>\n",
       "    </tr>\n",
       "  </tbody>\n",
       "</table>\n",
       "</div>"
      ],
      "text/plain": [
       "          F         G         W         Y         K         M\n",
       "0  0.859794 -0.421845 -0.062756  1.605158 -2.629584  0.644810\n",
       "1  0.900144 -0.516430  1.742249  0.839396 -0.916838 -0.671933\n",
       "2  0.217099  0.945797  0.239012 -0.372177  0.488118 -0.808752"
      ]
     },
     "execution_count": 100,
     "metadata": {},
     "output_type": "execute_result"
    }
   ],
   "source": [
    "s5.iloc[0:3]"
   ]
  },
  {
   "cell_type": "markdown",
   "id": "89602f65",
   "metadata": {},
   "source": [
    "# 7. Loc Function: The Pandas loc method enables you to select data from a Pandas DataFrame by label. It allows you to “ locate” data in a DataFrame."
   ]
  },
  {
   "cell_type": "code",
   "execution_count": 107,
   "id": "8c07b8f2",
   "metadata": {},
   "outputs": [
    {
     "data": {
      "text/html": [
       "<div>\n",
       "<style scoped>\n",
       "    .dataframe tbody tr th:only-of-type {\n",
       "        vertical-align: middle;\n",
       "    }\n",
       "\n",
       "    .dataframe tbody tr th {\n",
       "        vertical-align: top;\n",
       "    }\n",
       "\n",
       "    .dataframe thead th {\n",
       "        text-align: right;\n",
       "    }\n",
       "</style>\n",
       "<table border=\"1\" class=\"dataframe\">\n",
       "  <thead>\n",
       "    <tr style=\"text-align: right;\">\n",
       "      <th></th>\n",
       "      <th>F</th>\n",
       "      <th>G</th>\n",
       "    </tr>\n",
       "  </thead>\n",
       "  <tbody>\n",
       "    <tr>\n",
       "      <th>2</th>\n",
       "      <td>0.217099</td>\n",
       "      <td>0.945797</td>\n",
       "    </tr>\n",
       "    <tr>\n",
       "      <th>3</th>\n",
       "      <td>1.483238</td>\n",
       "      <td>0.430690</td>\n",
       "    </tr>\n",
       "  </tbody>\n",
       "</table>\n",
       "</div>"
      ],
      "text/plain": [
       "          F         G\n",
       "2  0.217099  0.945797\n",
       "3  1.483238  0.430690"
      ]
     },
     "execution_count": 107,
     "metadata": {},
     "output_type": "execute_result"
    }
   ],
   "source": [
    "s5.loc[[2,3],[\"F\",\"G\"]]"
   ]
  },
  {
   "cell_type": "markdown",
   "id": "0bca8e6f",
   "metadata": {},
   "source": [
    "# 8. Mean Function: Pandas dataframe.mean() function return the mean of the values for the requested axis."
   ]
  },
  {
   "cell_type": "code",
   "execution_count": 108,
   "id": "64999687",
   "metadata": {},
   "outputs": [
    {
     "data": {
      "text/plain": [
       "F    0.203374\n",
       "G   -0.107118\n",
       "W   -0.183736\n",
       "Y    0.095702\n",
       "K   -0.149776\n",
       "M    0.181848\n",
       "dtype: float64"
      ]
     },
     "execution_count": 108,
     "metadata": {},
     "output_type": "execute_result"
    }
   ],
   "source": [
    "s5.mean()"
   ]
  },
  {
   "cell_type": "markdown",
   "id": "e082e604",
   "metadata": {},
   "source": [
    "# 9. Value_Counts(): Value_counts() returns a Series containing the counts of unique values."
   ]
  },
  {
   "cell_type": "code",
   "execution_count": 110,
   "id": "9d5894e9",
   "metadata": {},
   "outputs": [
    {
     "data": {
      "text/plain": [
       " 0.336853    1\n",
       "-0.394584    1\n",
       " 0.239012    1\n",
       "-1.012714    1\n",
       " 1.063913    1\n",
       "-0.909445    1\n",
       "-1.043631    1\n",
       "-0.827549    1\n",
       "-0.419224    1\n",
       "-1.116206    1\n",
       "-1.788268    1\n",
       "-1.115583    1\n",
       " 1.026198    1\n",
       " 0.895380    1\n",
       " 0.363034    1\n",
       " 1.742249    1\n",
       "-0.057589    1\n",
       "-1.008657    1\n",
       "-0.062756    1\n",
       " 0.414842    1\n",
       "Name: W, dtype: int64"
      ]
     },
     "execution_count": 110,
     "metadata": {},
     "output_type": "execute_result"
    }
   ],
   "source": [
    "s5[\"W\"].value_counts()"
   ]
  },
  {
   "cell_type": "markdown",
   "id": "89b91501",
   "metadata": {},
   "source": [
    "# 10. drop_duplicates(): This returns a Pandas DataFrame with duplicate rows removed."
   ]
  },
  {
   "cell_type": "code",
   "execution_count": 112,
   "id": "2c27e94a",
   "metadata": {},
   "outputs": [],
   "source": [
    "s5.drop_duplicates(inplace=True)"
   ]
  },
  {
   "cell_type": "markdown",
   "id": "b8d0ae8c",
   "metadata": {},
   "source": [
    "# 11. groupby()"
   ]
  },
  {
   "cell_type": "markdown",
   "id": "16b2f94e",
   "metadata": {},
   "source": [
    "Groupby() is used to group a Pandas DataFrame by 1 or more columns, and perform mathematical operation on it. groupby() can be used to summarize data in a simple manner."
   ]
  },
  {
   "cell_type": "markdown",
   "id": "0ed2aee6",
   "metadata": {},
   "source": [
    "# s5.groupby(by='W').Y.mean()"
   ]
  },
  {
   "cell_type": "markdown",
   "id": "1a232a8a",
   "metadata": {},
   "source": [
    "# 11. numpy.repeat"
   ]
  },
  {
   "cell_type": "markdown",
   "id": "9a66f6ea",
   "metadata": {},
   "source": [
    "The numpy.repeat(a, repeats, axis=None) function repeats the elements of an array. The number of repetitions is specified by the second argument repeats."
   ]
  },
  {
   "cell_type": "code",
   "execution_count": 116,
   "id": "ee998b0d",
   "metadata": {},
   "outputs": [
    {
     "data": {
      "text/plain": [
       "array([40, 40, 40, 40, 40])"
      ]
     },
     "execution_count": 116,
     "metadata": {},
     "output_type": "execute_result"
    }
   ],
   "source": [
    "np.repeat(40,5)"
   ]
  },
  {
   "cell_type": "markdown",
   "id": "d2ab0078",
   "metadata": {},
   "source": [
    "# 12. numpy.random.randint"
   ]
  },
  {
   "cell_type": "markdown",
   "id": "81b7a1ec",
   "metadata": {},
   "source": [
    "The numpy.random.randint(low, high=None, size=None, dtype=’l’) function returns random integers from the interval [low,high). If high parameter is missing (None), the random numbers are selected from the interval [0,low)."
   ]
  },
  {
   "cell_type": "code",
   "execution_count": 118,
   "id": "cedbb3fb",
   "metadata": {},
   "outputs": [
    {
     "data": {
      "text/plain": [
       "1"
      ]
     },
     "execution_count": 118,
     "metadata": {},
     "output_type": "execute_result"
    }
   ],
   "source": [
    "np.random.randint(4)"
   ]
  },
  {
   "cell_type": "markdown",
   "id": "369088f6",
   "metadata": {},
   "source": [
    "# 13. numpy.random.choice"
   ]
  },
  {
   "cell_type": "markdown",
   "id": "630edad1",
   "metadata": {},
   "source": [
    "The numpy.random.choice(a, size=None, replace=True, p=None) returns a random sample from a given array. By default, a single value is returned. To return more elements, the output shape can be specified in the parameter size as we did before with the numpy.random.randint function."
   ]
  },
  {
   "cell_type": "code",
   "execution_count": 120,
   "id": "dca35884",
   "metadata": {},
   "outputs": [
    {
     "data": {
      "text/plain": [
       "9"
      ]
     },
     "execution_count": 120,
     "metadata": {},
     "output_type": "execute_result"
    }
   ],
   "source": [
    "np.random.choice([5,6,7,8,9,34])"
   ]
  },
  {
   "cell_type": "code",
   "execution_count": 125,
   "id": "e274eac5",
   "metadata": {},
   "outputs": [
    {
     "data": {
      "text/plain": [
       "1"
      ]
     },
     "execution_count": 125,
     "metadata": {},
     "output_type": "execute_result"
    }
   ],
   "source": [
    "np.random.binomial (10,0.2)"
   ]
  },
  {
   "cell_type": "markdown",
   "id": "76d402b9",
   "metadata": {},
   "source": [
    "# 14. numpy.argmax"
   ]
  },
  {
   "cell_type": "markdown",
   "id": "dcda2274",
   "metadata": {},
   "source": [
    "The numpy.argmax(a, axis=None, out=None) function returns the indices of the maximum values along an axis."
   ]
  },
  {
   "cell_type": "code",
   "execution_count": 126,
   "id": "2e451fc2",
   "metadata": {},
   "outputs": [],
   "source": [
    "array = np.array([[2,3,6],[7,8,9]])"
   ]
  },
  {
   "cell_type": "code",
   "execution_count": 129,
   "id": "1b2c8c40",
   "metadata": {},
   "outputs": [
    {
     "data": {
      "text/plain": [
       "5"
      ]
     },
     "execution_count": 129,
     "metadata": {},
     "output_type": "execute_result"
    }
   ],
   "source": [
    "max_pos = np.argmax(array)\n",
    "max_pos"
   ]
  },
  {
   "cell_type": "markdown",
   "id": "318e41bc",
   "metadata": {},
   "source": [
    "# 15. numpy.squeeze"
   ]
  },
  {
   "cell_type": "markdown",
   "id": "d0eb874a",
   "metadata": {},
   "source": [
    "The numpy.squeeze(a, axis=None) removes single-dimensional entries from the shape of an array. The argument axis specifies the axis we want to squeeze out. If the shape of the selected axis is greater than 1 a ValueError is raised."
   ]
  },
  {
   "cell_type": "code",
   "execution_count": 137,
   "id": "d96776f6",
   "metadata": {},
   "outputs": [],
   "source": [
    "arr = np.array([[[1],[1]]])"
   ]
  },
  {
   "cell_type": "code",
   "execution_count": 138,
   "id": "5fe6b4dc",
   "metadata": {},
   "outputs": [
    {
     "data": {
      "text/plain": [
       "(1, 2, 1)"
      ]
     },
     "execution_count": 138,
     "metadata": {},
     "output_type": "execute_result"
    }
   ],
   "source": [
    "arr.shape"
   ]
  },
  {
   "cell_type": "code",
   "execution_count": 139,
   "id": "5128e319",
   "metadata": {},
   "outputs": [
    {
     "data": {
      "text/plain": [
       "array([[1],\n",
       "       [1]])"
      ]
     },
     "execution_count": 139,
     "metadata": {},
     "output_type": "execute_result"
    }
   ],
   "source": [
    "arr0 = np.squeeze(arr,axis=0)\n",
    "arr0"
   ]
  },
  {
   "cell_type": "code",
   "execution_count": 140,
   "id": "64b09bad",
   "metadata": {},
   "outputs": [
    {
     "data": {
      "text/plain": [
       "(2, 1)"
      ]
     },
     "execution_count": 140,
     "metadata": {},
     "output_type": "execute_result"
    }
   ],
   "source": [
    "arr0.shape"
   ]
  },
  {
   "cell_type": "code",
   "execution_count": 143,
   "id": "1fd91b58",
   "metadata": {},
   "outputs": [],
   "source": [
    "arr2 = np.squeeze(arr,axis=2)"
   ]
  },
  {
   "cell_type": "markdown",
   "id": "04797c9a",
   "metadata": {},
   "source": [
    "# 16. The Numpy maximum function"
   ]
  },
  {
   "cell_type": "markdown",
   "id": "f27314f9",
   "metadata": {},
   "source": [
    "The Numpy max function identifies the maximum value in a Numpy array. "
   ]
  },
  {
   "cell_type": "code",
   "execution_count": 144,
   "id": "5649f7e8",
   "metadata": {},
   "outputs": [
    {
     "data": {
      "text/plain": [
       "4"
      ]
     },
     "execution_count": 144,
     "metadata": {},
     "output_type": "execute_result"
    }
   ],
   "source": [
    "np.maximum(3,4)"
   ]
  },
  {
   "cell_type": "markdown",
   "id": "c230fd53",
   "metadata": {},
   "source": [
    "# 17. Numpy.Clip Function"
   ]
  },
  {
   "cell_type": "markdown",
   "id": "601bbe74",
   "metadata": {},
   "source": [
    "The numpy.clip () that can be used to clip the values in an array."
   ]
  },
  {
   "cell_type": "code",
   "execution_count": 146,
   "id": "f8fa5c67",
   "metadata": {},
   "outputs": [
    {
     "data": {
      "text/plain": [
       "array([[ 1,  3,  6],\n",
       "       [ 8,  9, 14],\n",
       "       [16, 30, 42]])"
      ]
     },
     "execution_count": 146,
     "metadata": {},
     "output_type": "execute_result"
    }
   ],
   "source": [
    "gvn_arry = np.array([1, 3, 6, 8, 9, 14, 16, 30, 42]).reshape(3,3)\n",
    "gvn_arry "
   ]
  },
  {
   "cell_type": "code",
   "execution_count": 148,
   "id": "16c68cfb",
   "metadata": {},
   "outputs": [
    {
     "data": {
      "text/plain": [
       "array([[ 5,  5,  6],\n",
       "       [ 8,  9, 14],\n",
       "       [15, 15, 15]])"
      ]
     },
     "execution_count": 148,
     "metadata": {},
     "output_type": "execute_result"
    }
   ],
   "source": [
    "clip_arry = np.clip(gvn_arry, 5, 15)\n",
    "clip_arry"
   ]
  },
  {
   "cell_type": "markdown",
   "id": "4fa21d5a",
   "metadata": {},
   "source": [
    "# 18. ndarray.shape"
   ]
  },
  {
   "cell_type": "markdown",
   "id": "d149ab0a",
   "metadata": {},
   "source": [
    "The ndarray.shape defines the dimensions of the array."
   ]
  },
  {
   "cell_type": "code",
   "execution_count": 149,
   "id": "eb5406af",
   "metadata": {},
   "outputs": [
    {
     "name": "stdout",
     "output_type": "stream",
     "text": [
      "(2, 3)\n"
     ]
    }
   ],
   "source": [
    "Books = np.array([[24,40,60],[30,50,90]])\n",
    "print(Books.shape)"
   ]
  },
  {
   "cell_type": "markdown",
   "id": "caced6e4",
   "metadata": {},
   "source": [
    "# 19. ndarray.reshape()"
   ]
  },
  {
   "cell_type": "markdown",
   "id": "82a1b509",
   "metadata": {},
   "source": [
    "NumPy also provides a reshape() function that reshapes an array."
   ]
  },
  {
   "cell_type": "code",
   "execution_count": 151,
   "id": "00395c36",
   "metadata": {},
   "outputs": [
    {
     "name": "stdout",
     "output_type": "stream",
     "text": [
      "[[24 40]\n",
      " [60 30]\n",
      " [50 90]]\n"
     ]
    }
   ],
   "source": [
    "Work = Books.reshape(3,2)\n",
    "print(Work)"
   ]
  },
  {
   "cell_type": "markdown",
   "id": "4c9bffa3",
   "metadata": {},
   "source": [
    "# 20. ndarray.itemsize"
   ]
  },
  {
   "cell_type": "markdown",
   "id": "4e0a13ae",
   "metadata": {},
   "source": [
    "This returns the size (in bytes) of each element in the array"
   ]
  },
  {
   "cell_type": "code",
   "execution_count": 152,
   "id": "7685ce8c",
   "metadata": {},
   "outputs": [
    {
     "name": "stdout",
     "output_type": "stream",
     "text": [
      "1\n"
     ]
    }
   ],
   "source": [
    "x = np.array([100,270,350,64,5200], dtype = np.int8)\n",
    "print(x.itemsize)\n"
   ]
  },
  {
   "cell_type": "code",
   "execution_count": null,
   "id": "11c5d82d",
   "metadata": {},
   "outputs": [],
   "source": []
  }
 ],
 "metadata": {
  "kernelspec": {
   "display_name": "Python 3",
   "language": "python",
   "name": "python3"
  },
  "language_info": {
   "codemirror_mode": {
    "name": "ipython",
    "version": 3
   },
   "file_extension": ".py",
   "mimetype": "text/x-python",
   "name": "python",
   "nbconvert_exporter": "python",
   "pygments_lexer": "ipython3",
   "version": "3.8.8"
  }
 },
 "nbformat": 4,
 "nbformat_minor": 5
}
